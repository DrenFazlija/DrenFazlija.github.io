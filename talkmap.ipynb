{
 "cells": [
  {
   "cell_type": "markdown",
   "metadata": {},
   "source": [
    "# Leaflet cluster map of talk locations\n",
    "\n",
    "Run this from the _talks/ directory, which contains .md files of all your talks. This scrapes the location YAML field from each .md file, geolocates it with geopy/Nominatim, and uses the getorg library to output data, HTML, and Javascript for a standalone cluster map."
   ]
  },
  {
   "cell_type": "code",
   "execution_count": 1,
   "metadata": {
    "collapsed": false
   },
   "outputs": [
    {
     "name": "stdout",
     "output_type": "stream",
     "text": [
      "Collecting getorg\n",
      "  Downloading getorg-0.3.1-py2.py3-none-any.whl.metadata (326 bytes)\n",
      "Collecting geopy (from getorg)\n",
      "  Downloading geopy-2.4.1-py3-none-any.whl.metadata (6.8 kB)\n",
      "Collecting pygithub (from getorg)\n",
      "  Downloading PyGithub-2.6.1-py3-none-any.whl.metadata (3.9 kB)\n",
      "Collecting retrying (from getorg)\n",
      "  Downloading retrying-1.3.4-py3-none-any.whl.metadata (6.9 kB)\n",
      "Collecting geographiclib<3,>=1.52 (from geopy->getorg)\n",
      "  Downloading geographiclib-2.0-py3-none-any.whl.metadata (1.4 kB)\n",
      "Collecting pynacl>=1.4.0 (from pygithub->getorg)\n",
      "  Downloading PyNaCl-1.5.0-cp36-abi3-manylinux_2_17_x86_64.manylinux2014_x86_64.manylinux_2_24_x86_64.whl.metadata (8.6 kB)\n",
      "Requirement already satisfied: requests>=2.14.0 in /home/dren.fazlija/Code/Notebooks/.conda/lib/python3.11/site-packages (from pygithub->getorg) (2.32.3)\n",
      "Collecting pyjwt>=2.4.0 (from pyjwt[crypto]>=2.4.0->pygithub->getorg)\n",
      "  Downloading PyJWT-2.10.1-py3-none-any.whl.metadata (4.0 kB)\n",
      "Requirement already satisfied: typing-extensions>=4.0.0 in /home/dren.fazlija/Code/Notebooks/.conda/lib/python3.11/site-packages (from pygithub->getorg) (4.12.2)\n",
      "Requirement already satisfied: urllib3>=1.26.0 in /home/dren.fazlija/Code/Notebooks/.conda/lib/python3.11/site-packages (from pygithub->getorg) (2.3.0)\n",
      "Collecting Deprecated (from pygithub->getorg)\n",
      "  Using cached Deprecated-1.2.18-py2.py3-none-any.whl.metadata (5.7 kB)\n",
      "Requirement already satisfied: six>=1.7.0 in /home/dren.fazlija/Code/Notebooks/.conda/lib/python3.11/site-packages (from retrying->getorg) (1.16.0)\n",
      "Collecting cryptography>=3.4.0 (from pyjwt[crypto]>=2.4.0->pygithub->getorg)\n",
      "  Downloading cryptography-45.0.2-cp311-abi3-manylinux_2_34_x86_64.whl.metadata (5.7 kB)\n",
      "Collecting cffi>=1.4.1 (from pynacl>=1.4.0->pygithub->getorg)\n",
      "  Downloading cffi-1.17.1-cp311-cp311-manylinux_2_17_x86_64.manylinux2014_x86_64.whl.metadata (1.5 kB)\n",
      "Requirement already satisfied: charset-normalizer<4,>=2 in /home/dren.fazlija/Code/Notebooks/.conda/lib/python3.11/site-packages (from requests>=2.14.0->pygithub->getorg) (3.4.1)\n",
      "Requirement already satisfied: idna<4,>=2.5 in /home/dren.fazlija/Code/Notebooks/.conda/lib/python3.11/site-packages (from requests>=2.14.0->pygithub->getorg) (3.10)\n",
      "Requirement already satisfied: certifi>=2017.4.17 in /home/dren.fazlija/Code/Notebooks/.conda/lib/python3.11/site-packages (from requests>=2.14.0->pygithub->getorg) (2024.12.14)\n",
      "Collecting wrapt<2,>=1.10 (from Deprecated->pygithub->getorg)\n",
      "  Downloading wrapt-1.17.2-cp311-cp311-manylinux_2_5_x86_64.manylinux1_x86_64.manylinux_2_17_x86_64.manylinux2014_x86_64.whl.metadata (6.4 kB)\n",
      "Collecting pycparser (from cffi>=1.4.1->pynacl>=1.4.0->pygithub->getorg)\n",
      "  Using cached pycparser-2.22-py3-none-any.whl.metadata (943 bytes)\n",
      "Downloading getorg-0.3.1-py2.py3-none-any.whl (39 kB)\n",
      "Downloading geopy-2.4.1-py3-none-any.whl (125 kB)\n",
      "Downloading PyGithub-2.6.1-py3-none-any.whl (410 kB)\n",
      "Downloading retrying-1.3.4-py3-none-any.whl (11 kB)\n",
      "Downloading geographiclib-2.0-py3-none-any.whl (40 kB)\n",
      "Downloading PyJWT-2.10.1-py3-none-any.whl (22 kB)\n",
      "Downloading PyNaCl-1.5.0-cp36-abi3-manylinux_2_17_x86_64.manylinux2014_x86_64.manylinux_2_24_x86_64.whl (856 kB)\n",
      "\u001b[2K   \u001b[90m━━━━━━━━━━━━━━━━━━━━━━━━━━━━━━━━━━━━━━━━\u001b[0m \u001b[32m856.7/856.7 kB\u001b[0m \u001b[31m25.6 MB/s\u001b[0m eta \u001b[36m0:00:00\u001b[0m\n",
      "\u001b[?25hUsing cached Deprecated-1.2.18-py2.py3-none-any.whl (10.0 kB)\n",
      "Downloading cffi-1.17.1-cp311-cp311-manylinux_2_17_x86_64.manylinux2014_x86_64.whl (467 kB)\n",
      "Downloading cryptography-45.0.2-cp311-abi3-manylinux_2_34_x86_64.whl (4.5 MB)\n",
      "\u001b[2K   \u001b[90m━━━━━━━━━━━━━━━━━━━━━━━━━━━━━━━━━━━━━━━━\u001b[0m \u001b[32m4.5/4.5 MB\u001b[0m \u001b[31m38.7 MB/s\u001b[0m eta \u001b[36m0:00:00\u001b[0m\n",
      "\u001b[?25hDownloading wrapt-1.17.2-cp311-cp311-manylinux_2_5_x86_64.manylinux1_x86_64.manylinux_2_17_x86_64.manylinux2014_x86_64.whl (83 kB)\n",
      "Using cached pycparser-2.22-py3-none-any.whl (117 kB)\n",
      "Installing collected packages: wrapt, retrying, pyjwt, pycparser, geographiclib, geopy, Deprecated, cffi, pynacl, cryptography, pygithub, getorg\n",
      "Successfully installed Deprecated-1.2.18 cffi-1.17.1 cryptography-45.0.2 geographiclib-2.0 geopy-2.4.1 getorg-0.3.1 pycparser-2.22 pygithub-2.6.1 pyjwt-2.10.1 pynacl-1.5.0 retrying-1.3.4 wrapt-1.17.2\n",
      "Iywidgets and ipyleaflet support disabled. You must be in a Jupyter notebook to use this feature.\n",
      "Error raised:\n",
      "No module named 'ipywidgets'\n",
      "Check that you have enabled ipyleaflet in Jupyter with:\n",
      "    jupyter nbextension enable --py ipyleaflet\n"
     ]
    }
   ],
   "source": [
    "!pip install getorg --upgrade\n",
    "import glob\n",
    "import getorg\n",
    "from geopy import Nominatim"
   ]
  },
  {
   "cell_type": "code",
   "execution_count": 2,
   "metadata": {},
   "outputs": [
    {
     "name": "stdout",
     "output_type": "stream",
     "text": [
      "/home/dren.fazlija/Code/OwnWebpage/PersonalPage/DrenFazlija.github.io/_talks\n"
     ]
    },
    {
     "name": "stderr",
     "output_type": "stream",
     "text": [
      "/home/dren.fazlija/Code/Notebooks/.conda/lib/python3.11/site-packages/IPython/core/magics/osm.py:417: UserWarning: This is now an optional IPython functionality, setting dhist requires you to install the `pickleshare` library.\n",
      "  self.shell.db['dhist'] = compress_dhist(dhist)[-100:]\n"
     ]
    }
   ],
   "source": [
    "%cd _talks/"
   ]
  },
  {
   "cell_type": "code",
   "execution_count": 3,
   "metadata": {
    "collapsed": false
   },
   "outputs": [],
   "source": [
    "g = glob.glob(\"*.md\")"
   ]
  },
  {
   "cell_type": "code",
   "execution_count": 4,
   "metadata": {},
   "outputs": [
    {
     "data": {
      "text/plain": [
       "['2012-03-01-talk-1.md',\n",
       " '2024-04-10-talk.md',\n",
       " '2014-02-01-talk-2.md',\n",
       " '2024-06-14-talk.md',\n",
       " '2024-04-16-talk.md',\n",
       " '2013-03-01-tutorial-1.md',\n",
       " '2024-05-26-talk.md',\n",
       " '2024-05-08-talk.md']"
      ]
     },
     "execution_count": 4,
     "metadata": {},
     "output_type": "execute_result"
    }
   ],
   "source": [
    "g"
   ]
  },
  {
   "cell_type": "code",
   "execution_count": 5,
   "metadata": {
    "collapsed": true
   },
   "outputs": [],
   "source": [
    "geocoder = Nominatim(user_agent=\"drenfazlija-webpage\")\n",
    "location_dict = {}\n",
    "location = \"\"\n",
    "permalink = \"\"\n",
    "title = \"\""
   ]
  },
  {
   "cell_type": "code",
   "execution_count": 6,
   "metadata": {
    "collapsed": false
   },
   "outputs": [
    {
     "name": "stdout",
     "output_type": "stream",
     "text": [
      "Dr. Buhmann Schule, Hannover, Lower Saxony, Germany \n",
      " Dr. Buhmann Schule, 13, Prinzenstraße, Altstadt, Mitte, Hannover, Region Hannover, Niedersachsen, 30159, Deutschland\n",
      "Brainhouse 247, Laatzen, Lower Saxony, Germany \n",
      " Brainhouse 247, 1-7, Hildesheimer Straße, Alt-Laatzen, Laatzen, Region Hannover, Niedersachsen, 30880, Deutschland\n",
      "Stanford University, Stanford, California, USA \n",
      " Stanford University, 408, Panama Mall, Stanford, Santa Clara County, California, 94305, United States\n",
      "Berufsbildende Schule Burgdorf, Burgdorf, Lower Saxony, Germany \n",
      " Berufsbildende Schule Burgdorf, Berliner Ring, Burgdorf - Südstadt, Hülptingsen, Burgdorf, Region Hannover, Niedersachsen, 31303, Deutschland\n",
      "Gymnasium am Markt, Achim, Lower Saxony, Germany \n",
      " Gymnasium am Markt, 18, Am Marktplatz, Uesen, Achim, Landkreis Verden, Niedersachsen, 28832, Deutschland\n",
      "Leibnizhaus, Hannover, Lower Saxony, Germany \n",
      " Leibnizhaus, 5, Holzmarkt, Altstadt, Mitte, Hannover, Region Hannover, Niedersachsen, 30159, Deutschland\n",
      "St. Nicolai Bothfeld, Hannover, Lower Saxony, Germany \n",
      " St. Nicolai Kirche, 19, Sutelstraße, Bothfeld, Bothfeld-Vahrenheide, Hannover, Region Hannover, Niedersachsen, 30659, Deutschland\n",
      "Ada-und-Theodor-Lessing Volkshochschule, Hannover, Lower Saxony, Germany \n",
      " Ada-und-Theodor-Lessing-Volkshochschule, 14, Burgstraße, Kreuzkirchenviertel, Mitte, Hannover, Region Hannover, Niedersachsen, 30159, Deutschland\n"
     ]
    }
   ],
   "source": [
    "\n",
    "for file in g:\n",
    "    with open(file, 'r') as f:\n",
    "        lines = f.read()\n",
    "        if lines.find('location: \"') > 1:\n",
    "            loc_start = lines.find('location: \"') + 11\n",
    "            lines_trim = lines[loc_start:]\n",
    "            loc_end = lines_trim.find('\"')\n",
    "            location = lines_trim[:loc_end]\n",
    "                            \n",
    "           \n",
    "        location_dict[location] = geocoder.geocode(location)\n",
    "        print(location, \"\\n\", location_dict[location])\n"
   ]
  },
  {
   "cell_type": "code",
   "execution_count": 7,
   "metadata": {},
   "outputs": [
    {
     "data": {
      "text/plain": [
       "Location(Risto Self Agorà, 7, Via di Mezzo Ai Piani - Bozner-Boden-Mitterweg, Piani di Bolzano - Bozner Boden, Centro-Piani-Rencio - Zentrum-Bozner Boden-Rentsch, Rentsch - Rencio, Bolzano - Bozen, Trentino-Alto Adige/Südtirol, 39100, Italia, (46.4956931, 11.3701309, 0.0))"
      ]
     },
     "execution_count": 7,
     "metadata": {},
     "output_type": "execute_result"
    }
   ],
   "source": [
    "geocoder.geocode(\"Bozner Boden - Mitterweg, 7, 39100 Bolzano\")"
   ]
  },
  {
   "cell_type": "code",
   "execution_count": 9,
   "metadata": {
    "collapsed": false
   },
   "outputs": [
    {
     "data": {
      "text/plain": [
       "'Written map to ../talkmap/'"
      ]
     },
     "execution_count": 9,
     "metadata": {},
     "output_type": "execute_result"
    }
   ],
   "source": [
    "m = getorg.orgmap.create_map_obj()\n",
    "getorg.orgmap.output_html_cluster_map(location_dict, folder_name=\"../talkmap\", hashed_usernames=False)"
   ]
  },
  {
   "cell_type": "code",
   "execution_count": null,
   "metadata": {
    "collapsed": true
   },
   "outputs": [],
   "source": []
  }
 ],
 "metadata": {
  "anaconda-cloud": {},
  "kernelspec": {
   "display_name": "Python 3",
   "language": "python",
   "name": "python3"
  },
  "language_info": {
   "codemirror_mode": {
    "name": "ipython",
    "version": 3
   },
   "file_extension": ".py",
   "mimetype": "text/x-python",
   "name": "python",
   "nbconvert_exporter": "python",
   "pygments_lexer": "ipython3",
   "version": "3.11.11"
  }
 },
 "nbformat": 4,
 "nbformat_minor": 0
}
